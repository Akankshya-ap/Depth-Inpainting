{
 "cells": [
  {
   "cell_type": "code",
   "execution_count": 24,
   "metadata": {
    "collapsed": true
   },
   "outputs": [],
   "source": [
    "from __future__ import print_function\n",
    "import matplotlib.pyplot as plt\n",
    "%matplotlib inline\n",
    "\n",
    "import os\n",
    "# os.environ['CUDA_VISIBLE_DEVICES'] = '1'\n",
    "\n",
    "import numpy as np\n",
    "import torch.nn.functional as F\n",
    "from models.resnet import ResNet\n",
    "from models.unet import UNet\n",
    "from models.skip import skip\n",
    "import torch\n",
    "import torch.optim\n",
    "from torch import autograd\n",
    "\n",
    "from torch.autograd import Variable\n",
    "from utils.inpainting_utils import *\n",
    "\n",
    "torch.backends.cudnn.enabled = True\n",
    "torch.backends.cudnn.benchmark =True\n",
    "dtype = torch.cuda.FloatTensor\n",
    "\n",
    "PLOT = True\n",
    "imsize=-1\n",
    "dim_div_by = 64\n",
    "dtype = torch.cuda.FloatTensor"
   ]
  },
  {
   "cell_type": "code",
   "execution_count": 35,
   "metadata": {
    "scrolled": false
   },
   "outputs": [
    {
     "name": "stdout",
     "output_type": "stream",
     "text": [
      "Variable containing:\n",
      " 0.5119  0.2812 -0.8805  ...  -0.0978  1.4861  0.5184\n",
      "-0.6937  1.1294 -1.1620  ...   1.2425 -0.3487  0.0659\n",
      " 1.2478  0.2235 -1.3120  ...  -0.7050  0.4809 -0.6292\n",
      "          ...             ⋱             ...          \n",
      "-0.5046  1.2692  1.0275  ...  -0.4930  2.0613 -2.0172\n",
      " 0.5830 -0.7556  0.0531  ...   1.5024 -0.8840  0.0391\n",
      " 1.3245 -1.1939 -1.2625  ...   0.5911 -1.2981 -2.0057\n",
      "[torch.FloatTensor of size 50x50]\n",
      "\n",
      "Variable containing:\n",
      "-0.3125  1.1399 -1.6013  ...  -0.3116  0.4361  0.3486\n",
      "-0.5373  1.4873  0.2107  ...   0.2742  1.3129 -0.6315\n",
      " 0.1375  0.3260  0.5516  ...   0.4799  0.3678  1.4493\n",
      "          ...             ⋱             ...          \n",
      "-0.0165 -0.0801  0.9335  ...  -0.5590  0.9522 -0.6303\n",
      "-1.7681 -0.1072 -1.2699  ...   1.0129  0.8815 -0.5922\n",
      "-0.1713 -0.2275 -0.9121  ...   1.4982  0.0769  0.4251\n",
      "[torch.FloatTensor of size 50x50]\n",
      "\n"
     ]
    }
   ],
   "source": [
    "#loss = nn.MSELoss()\n",
    "net_input = autograd.Variable(torch.randn(50, 50), requires_grad=True)\n",
    "print(net_input)\n",
    "target = autograd.Variable(torch.randn(50, 50))\n",
    "print(target)\n",
    "#output = loss(net_input, target)\n",
    "#print(output)\n",
    "#output.backward()"
   ]
  },
  {
   "cell_type": "code",
   "execution_count": 44,
   "metadata": {
    "collapsed": true
   },
   "outputs": [],
   "source": [
    "def each(inp,out):\n",
    "    #print(inp.size(),out.size())\n",
    "    #[a,b]=inp.size()\n",
    "    #y=0\n",
    "    p=0\n",
    "    q=0\n",
    "    s=0\n",
    "    for a in range(inp.size()[0]):\n",
    "        for b in range(inp.size()[1]):\n",
    "            x=inp[a][b]\n",
    "            try:\n",
    "                y1=out[a-1][b]\n",
    "            except IndexError:\n",
    "                y1=inp[a][b]\n",
    "            try:\n",
    "                y2=out[a+1][b]\n",
    "            except IndexError:\n",
    "                y2=inp[a][b]\n",
    "            try:\n",
    "                y3=out[a][b-1]\n",
    "            except IndexError:\n",
    "                y3=inp[a][b]\n",
    "            try:\n",
    "                y4=out[a][b+1]\n",
    "            except IndexError:\n",
    "                y4=inp[a][b]\n",
    "                \n",
    "            try:\n",
    "                y5=out[a-1][b-1]\n",
    "            except IndexError:\n",
    "                y5=inp[a][b]\n",
    "            try:\n",
    "                y6=out[a+1][b-1]\n",
    "            except IndexError:\n",
    "                y6=inp[a][b]\n",
    "            try:\n",
    "                y7=out[a-1][b+1]\n",
    "            except IndexError:\n",
    "                y7=inp[a][b]\n",
    "            try:\n",
    "                y8=out[a+1][b+1]\n",
    "            except IndexError:\n",
    "                y8=inp[a][b]\n",
    "            \n",
    "            y9=out[a][b]\n",
    "            #except IndexError:\n",
    "               # y4=inp[a][b]    \n",
    "                \n",
    "            p=((x-y1)**2+(x-y2)**2+(x-y3)**2+(x-y4)**2+(x-y5)**2+(x-y6)**2+(x-y7)**2+(x-y8)**2)/8\n",
    "            q=(x-y9)**2\n",
    "            print(p.type,q)\n",
    "            if(p<q).numpy():\n",
    "                s=s+p\n",
    "            else:\n",
    "                s=s+q\n",
    "    return s\n",
    "\n",
    "                \n",
    " "
   ]
  },
  {
   "cell_type": "code",
   "execution_count": 45,
   "metadata": {},
   "outputs": [
    {
     "name": "stdout",
     "output_type": "stream",
     "text": [
      "<bound method Variable.type of Variable containing:\n",
      " 0.6002\n",
      "[torch.FloatTensor of size 1]\n",
      "> Variable containing:\n",
      " 0.6796\n",
      "[torch.FloatTensor of size 1]\n",
      "\n"
     ]
    },
    {
     "ename": "AttributeError",
     "evalue": "'Variable' object has no attribute 'numpy'",
     "output_type": "error",
     "traceback": [
      "\u001b[1;31m---------------------------------------------------------------------------\u001b[0m",
      "\u001b[1;31mAttributeError\u001b[0m                            Traceback (most recent call last)",
      "\u001b[1;32m<ipython-input-45-523852dee06a>\u001b[0m in \u001b[0;36m<module>\u001b[1;34m()\u001b[0m\n\u001b[0;32m      2\u001b[0m \u001b[1;32mfor\u001b[0m \u001b[0mi\u001b[0m \u001b[1;32min\u001b[0m \u001b[0mrange\u001b[0m\u001b[1;33m(\u001b[0m\u001b[1;36m5\u001b[0m\u001b[1;33m)\u001b[0m\u001b[1;33m:\u001b[0m\u001b[1;33m\u001b[0m\u001b[0m\n\u001b[0;32m      3\u001b[0m \u001b[1;33m\u001b[0m\u001b[0m\n\u001b[1;32m----> 4\u001b[1;33m     \u001b[0mloss\u001b[0m \u001b[1;33m=\u001b[0m \u001b[0mtorch\u001b[0m\u001b[1;33m.\u001b[0m\u001b[0mmean\u001b[0m\u001b[1;33m(\u001b[0m\u001b[0meach\u001b[0m\u001b[1;33m(\u001b[0m\u001b[0mnet_input\u001b[0m\u001b[1;33m,\u001b[0m\u001b[0mtarget\u001b[0m\u001b[1;33m)\u001b[0m\u001b[1;33m)\u001b[0m\u001b[1;33m\u001b[0m\u001b[0m\n\u001b[0m\u001b[0;32m      5\u001b[0m     \u001b[1;31m#print(loss)\u001b[0m\u001b[1;33m\u001b[0m\u001b[1;33m\u001b[0m\u001b[0m\n\u001b[0;32m      6\u001b[0m     \u001b[0mloss\u001b[0m\u001b[1;33m.\u001b[0m\u001b[0mbackward\u001b[0m\u001b[1;33m(\u001b[0m\u001b[1;33m)\u001b[0m\u001b[1;33m\u001b[0m\u001b[0m\n",
      "\u001b[1;32m<ipython-input-44-608f8df6ad56>\u001b[0m in \u001b[0;36meach\u001b[1;34m(inp, out)\u001b[0m\n\u001b[0;32m     50\u001b[0m             \u001b[0mq\u001b[0m\u001b[1;33m=\u001b[0m\u001b[1;33m(\u001b[0m\u001b[0mx\u001b[0m\u001b[1;33m-\u001b[0m\u001b[0my9\u001b[0m\u001b[1;33m)\u001b[0m\u001b[1;33m**\u001b[0m\u001b[1;36m2\u001b[0m\u001b[1;33m\u001b[0m\u001b[0m\n\u001b[0;32m     51\u001b[0m             \u001b[0mprint\u001b[0m\u001b[1;33m(\u001b[0m\u001b[0mp\u001b[0m\u001b[1;33m.\u001b[0m\u001b[0mtype\u001b[0m\u001b[1;33m,\u001b[0m\u001b[0mq\u001b[0m\u001b[1;33m)\u001b[0m\u001b[1;33m\u001b[0m\u001b[0m\n\u001b[1;32m---> 52\u001b[1;33m             \u001b[1;32mif\u001b[0m\u001b[1;33m(\u001b[0m\u001b[0mp\u001b[0m\u001b[1;33m<\u001b[0m\u001b[0mq\u001b[0m\u001b[1;33m)\u001b[0m\u001b[1;33m.\u001b[0m\u001b[0mnumpy\u001b[0m\u001b[1;33m(\u001b[0m\u001b[1;33m)\u001b[0m\u001b[1;33m:\u001b[0m\u001b[1;33m\u001b[0m\u001b[0m\n\u001b[0m\u001b[0;32m     53\u001b[0m                 \u001b[0ms\u001b[0m\u001b[1;33m=\u001b[0m\u001b[0ms\u001b[0m\u001b[1;33m+\u001b[0m\u001b[0mp\u001b[0m\u001b[1;33m\u001b[0m\u001b[0m\n\u001b[0;32m     54\u001b[0m             \u001b[1;32melse\u001b[0m\u001b[1;33m:\u001b[0m\u001b[1;33m\u001b[0m\u001b[0m\n",
      "\u001b[1;32mC:\\Users\\CV LAB\\Anaconda3\\lib\\site-packages\\torch\\autograd\\variable.py\u001b[0m in \u001b[0;36m__getattr__\u001b[1;34m(self, name)\u001b[0m\n\u001b[0;32m     63\u001b[0m         \u001b[1;32mif\u001b[0m \u001b[0mname\u001b[0m \u001b[1;32min\u001b[0m \u001b[0mself\u001b[0m\u001b[1;33m.\u001b[0m\u001b[0m_fallthrough_methods\u001b[0m\u001b[1;33m:\u001b[0m\u001b[1;33m\u001b[0m\u001b[0m\n\u001b[0;32m     64\u001b[0m             \u001b[1;32mreturn\u001b[0m \u001b[0mgetattr\u001b[0m\u001b[1;33m(\u001b[0m\u001b[0mself\u001b[0m\u001b[1;33m.\u001b[0m\u001b[0mdata\u001b[0m\u001b[1;33m,\u001b[0m \u001b[0mname\u001b[0m\u001b[1;33m)\u001b[0m\u001b[1;33m\u001b[0m\u001b[0m\n\u001b[1;32m---> 65\u001b[1;33m         \u001b[1;32mreturn\u001b[0m \u001b[0mobject\u001b[0m\u001b[1;33m.\u001b[0m\u001b[0m__getattribute__\u001b[0m\u001b[1;33m(\u001b[0m\u001b[0mself\u001b[0m\u001b[1;33m,\u001b[0m \u001b[0mname\u001b[0m\u001b[1;33m)\u001b[0m\u001b[1;33m\u001b[0m\u001b[0m\n\u001b[0m\u001b[0;32m     66\u001b[0m \u001b[1;33m\u001b[0m\u001b[0m\n\u001b[0;32m     67\u001b[0m     \u001b[1;32mdef\u001b[0m \u001b[0m__getitem__\u001b[0m\u001b[1;33m(\u001b[0m\u001b[0mself\u001b[0m\u001b[1;33m,\u001b[0m \u001b[0mkey\u001b[0m\u001b[1;33m)\u001b[0m\u001b[1;33m:\u001b[0m\u001b[1;33m\u001b[0m\u001b[0m\n",
      "\u001b[1;31mAttributeError\u001b[0m: 'Variable' object has no attribute 'numpy'"
     ]
    }
   ],
   "source": [
    "loss1=[]\n",
    "for i in range(5):\n",
    "\n",
    "    loss = torch.mean(each(net_input,target))\n",
    "    #print(loss)\n",
    "    loss.backward()\n",
    "    net_input.data.add_(-0.0001 * net_input.grad.data)\n",
    "    net_input.grad.data.zero_()\n",
    "    #if loss.data[0] < 1e-3:\n",
    "     #   break\n",
    "    loss1.append(loss.data[0])\n",
    "#plt.plot(range(5000), loss1)"
   ]
  },
  {
   "cell_type": "code",
   "execution_count": null,
   "metadata": {
    "collapsed": true
   },
   "outputs": [],
   "source": []
  }
 ],
 "metadata": {
  "kernelspec": {
   "display_name": "Python 3",
   "language": "python",
   "name": "python3"
  },
  "language_info": {
   "codemirror_mode": {
    "name": "ipython",
    "version": 3
   },
   "file_extension": ".py",
   "mimetype": "text/x-python",
   "name": "python",
   "nbconvert_exporter": "python",
   "pygments_lexer": "ipython3",
   "version": "3.6.1"
  }
 },
 "nbformat": 4,
 "nbformat_minor": 2
}
