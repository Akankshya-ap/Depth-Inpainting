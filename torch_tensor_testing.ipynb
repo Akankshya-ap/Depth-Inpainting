{
 "cells": [
  {
   "cell_type": "code",
   "execution_count": 5,
   "metadata": {},
   "outputs": [
    {
     "name": "stdout",
     "output_type": "stream",
     "text": [
      "\n",
      "-0.6012  2.6060  1.2138  0.6845\n",
      "-1.0600 -0.2542  0.7657  0.8713\n",
      " 0.6889 -0.9083 -0.0829  0.0808\n",
      "-0.9411  1.1212  0.7484 -2.1335\n",
      "[torch.FloatTensor of size 4x4]\n",
      "\n",
      "torch.Size([4, 4])\n",
      "\n",
      " 0  0  0  0\n",
      " 0  0  0  0\n",
      " 0  0  0  0\n",
      " 0  0  0  0\n",
      "[torch.FloatTensor of size 4x4]\n",
      "\n"
     ]
    }
   ],
   "source": [
    "import torch\n",
    "#a = torch.Tensor(4, 2)\n",
    "a = torch.randn(4, 4)\n",
    "print(a)\n",
    "print(a.size())\n",
    "b=torch.zeros(4,4)\n",
    "print(b)"
   ]
  },
  {
   "cell_type": "code",
   "execution_count": 13,
   "metadata": {},
   "outputs": [
    {
     "name": "stdout",
     "output_type": "stream",
     "text": [
      "\n",
      " 0.2737 -0.6012  2.6060  1.2138\n",
      " 0.0000 -1.0600 -0.2542  0.7657\n",
      " 0.0000  0.6889 -0.9083 -0.0829\n",
      " 0.0000 -0.9411  1.1212  0.7484\n",
      "[torch.FloatTensor of size 4x4]\n",
      "\n"
     ]
    }
   ],
   "source": [
    "b[:,1:]=a[:,:-1]\n",
    "print(b)"
   ]
  },
  {
   "cell_type": "code",
   "execution_count": 72,
   "metadata": {},
   "outputs": [
    {
     "name": "stdout",
     "output_type": "stream",
     "text": [
      "\n",
      "(0 ,.,.) = \n",
      "  1.4875 -0.5244  0.5025  0.6124\n",
      " -0.8766  0.3364 -0.3516 -0.3095\n",
      " -0.3471  0.0073  0.0258  0.1991\n",
      " -0.1006  0.8970 -1.0518  0.7252\n",
      "\n",
      "(1 ,.,.) = \n",
      " -2.2096 -0.9413  0.3723 -0.2873\n",
      "  0.8926  1.1532 -1.3937  0.1396\n",
      " -1.2194  0.3564  0.0218  0.5848\n",
      "  0.3595  1.3509 -0.9778 -0.0169\n",
      "\n",
      "(2 ,.,.) = \n",
      "  1.6133 -0.9832 -0.6780 -0.5147\n",
      " -0.2551  0.9678  0.1600 -0.3539\n",
      "  0.3241 -0.8110 -0.1280 -2.4030\n",
      "  0.7236  1.6286  0.7966 -0.4662\n",
      "[torch.FloatTensor of size 3x4x4]\n",
      "\n"
     ]
    }
   ],
   "source": [
    "c=torch.randn(3,4,4)\n",
    "#c=torch.randn(3,4,4)\n",
    "print(c)\n",
    "#b[:,0]=c[:,0]\n",
    "#print(b)"
   ]
  },
  {
   "cell_type": "code",
   "execution_count": 73,
   "metadata": {},
   "outputs": [
    {
     "ename": "RuntimeError",
     "evalue": "inconsistent tensor size, expected r_ [4 x 4], t [4 x 4] and src [6 x 6] to have the same number of elements, but got 16, 16 and 36 elements respectively at d:\\projects\\pytorch\\torch\\lib\\th\\generic/THTensorMath.c:887",
     "output_type": "error",
     "traceback": [
      "\u001b[1;31m---------------------------------------------------------------------------\u001b[0m",
      "\u001b[1;31mRuntimeError\u001b[0m                              Traceback (most recent call last)",
      "\u001b[1;32m<ipython-input-73-c7f11f57198b>\u001b[0m in \u001b[0;36m<module>\u001b[1;34m()\u001b[0m\n\u001b[1;32m----> 1\u001b[1;33m \u001b[0mprint\u001b[0m\u001b[1;33m(\u001b[0m\u001b[0ma\u001b[0m\u001b[1;33m-\u001b[0m\u001b[0mb\u001b[0m\u001b[1;33m)\u001b[0m\u001b[1;33m\u001b[0m\u001b[0m\n\u001b[0m",
      "\u001b[1;32mC:\\Users\\CV LAB\\Anaconda3\\lib\\site-packages\\torch\\tensor.py\u001b[0m in \u001b[0;36m__sub__\u001b[1;34m(self, other)\u001b[0m\n\u001b[0;32m    298\u001b[0m \u001b[1;33m\u001b[0m\u001b[0m\n\u001b[0;32m    299\u001b[0m     \u001b[1;32mdef\u001b[0m \u001b[0m__sub__\u001b[0m\u001b[1;33m(\u001b[0m\u001b[0mself\u001b[0m\u001b[1;33m,\u001b[0m \u001b[0mother\u001b[0m\u001b[1;33m)\u001b[0m\u001b[1;33m:\u001b[0m\u001b[1;33m\u001b[0m\u001b[0m\n\u001b[1;32m--> 300\u001b[1;33m         \u001b[1;32mreturn\u001b[0m \u001b[0mself\u001b[0m\u001b[1;33m.\u001b[0m\u001b[0msub\u001b[0m\u001b[1;33m(\u001b[0m\u001b[0mother\u001b[0m\u001b[1;33m)\u001b[0m\u001b[1;33m\u001b[0m\u001b[0m\n\u001b[0m\u001b[0;32m    301\u001b[0m \u001b[1;33m\u001b[0m\u001b[0m\n\u001b[0;32m    302\u001b[0m     \u001b[1;32mdef\u001b[0m \u001b[0m__rsub__\u001b[0m\u001b[1;33m(\u001b[0m\u001b[0mself\u001b[0m\u001b[1;33m,\u001b[0m \u001b[0mother\u001b[0m\u001b[1;33m)\u001b[0m\u001b[1;33m:\u001b[0m\u001b[1;33m\u001b[0m\u001b[0m\n",
      "\u001b[1;31mRuntimeError\u001b[0m: inconsistent tensor size, expected r_ [4 x 4], t [4 x 4] and src [6 x 6] to have the same number of elements, but got 16, 16 and 36 elements respectively at d:\\projects\\pytorch\\torch\\lib\\th\\generic/THTensorMath.c:887"
     ]
    }
   ],
   "source": [
    "print(a-b)"
   ]
  },
  {
   "cell_type": "code",
   "execution_count": 74,
   "metadata": {},
   "outputs": [
    {
     "ename": "RuntimeError",
     "evalue": "inconsistent tensor size, expected r_ [4 x 4], t [4 x 4] and src [6 x 6] to have the same number of elements, but got 16, 16 and 36 elements respectively at d:\\projects\\pytorch\\torch\\lib\\th\\generic/THTensorMath.c:887",
     "output_type": "error",
     "traceback": [
      "\u001b[1;31m---------------------------------------------------------------------------\u001b[0m",
      "\u001b[1;31mRuntimeError\u001b[0m                              Traceback (most recent call last)",
      "\u001b[1;32m<ipython-input-74-76dcc6b209d3>\u001b[0m in \u001b[0;36m<module>\u001b[1;34m()\u001b[0m\n\u001b[1;32m----> 1\u001b[1;33m \u001b[0mprint\u001b[0m\u001b[1;33m(\u001b[0m\u001b[0mtorch\u001b[0m\u001b[1;33m.\u001b[0m\u001b[0msum\u001b[0m\u001b[1;33m(\u001b[0m\u001b[1;33m(\u001b[0m\u001b[0ma\u001b[0m\u001b[1;33m-\u001b[0m\u001b[0mb\u001b[0m\u001b[1;33m)\u001b[0m\u001b[1;33m**\u001b[0m\u001b[1;36m2\u001b[0m\u001b[1;33m)\u001b[0m\u001b[1;33m)\u001b[0m\u001b[1;33m\u001b[0m\u001b[0m\n\u001b[0m",
      "\u001b[1;32mC:\\Users\\CV LAB\\Anaconda3\\lib\\site-packages\\torch\\tensor.py\u001b[0m in \u001b[0;36m__sub__\u001b[1;34m(self, other)\u001b[0m\n\u001b[0;32m    298\u001b[0m \u001b[1;33m\u001b[0m\u001b[0m\n\u001b[0;32m    299\u001b[0m     \u001b[1;32mdef\u001b[0m \u001b[0m__sub__\u001b[0m\u001b[1;33m(\u001b[0m\u001b[0mself\u001b[0m\u001b[1;33m,\u001b[0m \u001b[0mother\u001b[0m\u001b[1;33m)\u001b[0m\u001b[1;33m:\u001b[0m\u001b[1;33m\u001b[0m\u001b[0m\n\u001b[1;32m--> 300\u001b[1;33m         \u001b[1;32mreturn\u001b[0m \u001b[0mself\u001b[0m\u001b[1;33m.\u001b[0m\u001b[0msub\u001b[0m\u001b[1;33m(\u001b[0m\u001b[0mother\u001b[0m\u001b[1;33m)\u001b[0m\u001b[1;33m\u001b[0m\u001b[0m\n\u001b[0m\u001b[0;32m    301\u001b[0m \u001b[1;33m\u001b[0m\u001b[0m\n\u001b[0;32m    302\u001b[0m     \u001b[1;32mdef\u001b[0m \u001b[0m__rsub__\u001b[0m\u001b[1;33m(\u001b[0m\u001b[0mself\u001b[0m\u001b[1;33m,\u001b[0m \u001b[0mother\u001b[0m\u001b[1;33m)\u001b[0m\u001b[1;33m:\u001b[0m\u001b[1;33m\u001b[0m\u001b[0m\n",
      "\u001b[1;31mRuntimeError\u001b[0m: inconsistent tensor size, expected r_ [4 x 4], t [4 x 4] and src [6 x 6] to have the same number of elements, but got 16, 16 and 36 elements respectively at d:\\projects\\pytorch\\torch\\lib\\th\\generic/THTensorMath.c:887"
     ]
    }
   ],
   "source": [
    "print(torch.sum((a-b)**2))"
   ]
  },
  {
   "cell_type": "code",
   "execution_count": 75,
   "metadata": {},
   "outputs": [
    {
     "ename": "RuntimeError",
     "evalue": "inconsistent tensor size, expected tensor [4 x 4] and src [3 x 4 x 4] to have the same number of elements, but got 16 and 48 elements respectively at d:\\projects\\pytorch\\torch\\lib\\th\\generic/THTensorCopy.c:86",
     "output_type": "error",
     "traceback": [
      "\u001b[1;31m---------------------------------------------------------------------------\u001b[0m",
      "\u001b[1;31mRuntimeError\u001b[0m                              Traceback (most recent call last)",
      "\u001b[1;32m<ipython-input-75-ff9c5f9cd8a1>\u001b[0m in \u001b[0;36m<module>\u001b[1;34m()\u001b[0m\n\u001b[0;32m      1\u001b[0m \u001b[0mb\u001b[0m\u001b[1;33m=\u001b[0m\u001b[0mtorch\u001b[0m\u001b[1;33m.\u001b[0m\u001b[0mzeros\u001b[0m\u001b[1;33m(\u001b[0m\u001b[1;36m6\u001b[0m\u001b[1;33m,\u001b[0m\u001b[1;36m6\u001b[0m\u001b[1;33m)\u001b[0m\u001b[1;33m\u001b[0m\u001b[0m\n\u001b[1;32m----> 2\u001b[1;33m \u001b[0mb\u001b[0m\u001b[1;33m[\u001b[0m\u001b[1;36m1\u001b[0m\u001b[1;33m:\u001b[0m\u001b[1;36m5\u001b[0m\u001b[1;33m,\u001b[0m\u001b[1;36m1\u001b[0m\u001b[1;33m:\u001b[0m\u001b[1;36m5\u001b[0m\u001b[1;33m]\u001b[0m\u001b[1;33m=\u001b[0m\u001b[0mc\u001b[0m\u001b[1;33m[\u001b[0m\u001b[1;33m:\u001b[0m\u001b[1;33m,\u001b[0m\u001b[1;33m:\u001b[0m\u001b[1;33m]\u001b[0m\u001b[1;33m\u001b[0m\u001b[0m\n\u001b[0m\u001b[0;32m      3\u001b[0m \u001b[0mprint\u001b[0m\u001b[1;33m(\u001b[0m\u001b[0mb\u001b[0m\u001b[1;33m)\u001b[0m\u001b[1;33m\u001b[0m\u001b[0m\n",
      "\u001b[1;31mRuntimeError\u001b[0m: inconsistent tensor size, expected tensor [4 x 4] and src [3 x 4 x 4] to have the same number of elements, but got 16 and 48 elements respectively at d:\\projects\\pytorch\\torch\\lib\\th\\generic/THTensorCopy.c:86"
     ]
    }
   ],
   "source": [
    "b=torch.zeros(6,6)\n",
    "b[1:5,1:5]=c[:,:]\n",
    "print(b)"
   ]
  },
  {
   "cell_type": "code",
   "execution_count": 76,
   "metadata": {},
   "outputs": [
    {
     "name": "stdout",
     "output_type": "stream",
     "text": [
      "4 4\n"
     ]
    }
   ],
   "source": [
    "[t,x,y]=c.size()\n",
    "print(x,y)"
   ]
  },
  {
   "cell_type": "code",
   "execution_count": 77,
   "metadata": {},
   "outputs": [
    {
     "name": "stdout",
     "output_type": "stream",
     "text": [
      "\n",
      "(0 ,.,.) = \n",
      "  0  0  0  0  0  0\n",
      "  0  0  0  0  0  0\n",
      "  0  0  0  0  0  0\n",
      "  0  0  0  0  0  0\n",
      "  0  0  0  0  0  0\n",
      "  0  0  0  0  0  0\n",
      "\n",
      "(1 ,.,.) = \n",
      "  0  0  0  0  0  0\n",
      "  0  0  0  0  0  0\n",
      "  0  0  0  0  0  0\n",
      "  0  0  0  0  0  0\n",
      "  0  0  0  0  0  0\n",
      "  0  0  0  0  0  0\n",
      "\n",
      "(2 ,.,.) = \n",
      "  0  0  0  0  0  0\n",
      "  0  0  0  0  0  0\n",
      "  0  0  0  0  0  0\n",
      "  0  0  0  0  0  0\n",
      "  0  0  0  0  0  0\n",
      "  0  0  0  0  0  0\n",
      "[torch.FloatTensor of size 3x6x6]\n",
      "\n",
      "\n",
      "(0 ,.,.) = \n",
      "  0.0000  0.0000  0.0000  0.0000  0.0000  0.0000\n",
      "  0.0000  1.4875 -0.5244  0.5025  0.6124  0.0000\n",
      "  0.0000 -0.8766  0.3364 -0.3516 -0.3095  0.0000\n",
      "  0.0000 -0.3471  0.0073  0.0258  0.1991  0.0000\n",
      "  0.0000 -0.1006  0.8970 -1.0518  0.7252  0.0000\n",
      "  0.0000  0.0000  0.0000  0.0000  0.0000  0.0000\n",
      "\n",
      "(1 ,.,.) = \n",
      "  0.0000  0.0000  0.0000  0.0000  0.0000  0.0000\n",
      "  0.0000 -2.2096 -0.9413  0.3723 -0.2873  0.0000\n",
      "  0.0000  0.8926  1.1532 -1.3937  0.1396  0.0000\n",
      "  0.0000 -1.2194  0.3564  0.0218  0.5848  0.0000\n",
      "  0.0000  0.3595  1.3509 -0.9778 -0.0169  0.0000\n",
      "  0.0000  0.0000  0.0000  0.0000  0.0000  0.0000\n",
      "\n",
      "(2 ,.,.) = \n",
      "  0.0000  0.0000  0.0000  0.0000  0.0000  0.0000\n",
      "  0.0000  1.6133 -0.9832 -0.6780 -0.5147  0.0000\n",
      "  0.0000 -0.2551  0.9678  0.1600 -0.3539  0.0000\n",
      "  0.0000  0.3241 -0.8110 -0.1280 -2.4030  0.0000\n",
      "  0.0000  0.7236  1.6286  0.7966 -0.4662  0.0000\n",
      "  0.0000  0.0000  0.0000  0.0000  0.0000  0.0000\n",
      "[torch.FloatTensor of size 3x6x6]\n",
      "\n",
      "\n",
      "(0 ,.,.) = \n",
      "  0.0000  1.4875 -0.5244  0.5025  0.6124  0.0000\n",
      "  0.0000  1.4875 -0.5244  0.5025  0.6124  0.0000\n",
      "  0.0000 -0.8766  0.3364 -0.3516 -0.3095  0.0000\n",
      "  0.0000 -0.3471  0.0073  0.0258  0.1991  0.0000\n",
      "  0.0000 -0.1006  0.8970 -1.0518  0.7252  0.0000\n",
      "  0.0000  0.0000  0.0000  0.0000  0.0000  0.0000\n",
      "\n",
      "(1 ,.,.) = \n",
      "  0.0000 -2.2096 -0.9413  0.3723 -0.2873  0.0000\n",
      "  0.0000 -2.2096 -0.9413  0.3723 -0.2873  0.0000\n",
      "  0.0000  0.8926  1.1532 -1.3937  0.1396  0.0000\n",
      "  0.0000 -1.2194  0.3564  0.0218  0.5848  0.0000\n",
      "  0.0000  0.3595  1.3509 -0.9778 -0.0169  0.0000\n",
      "  0.0000  0.0000  0.0000  0.0000  0.0000  0.0000\n",
      "\n",
      "(2 ,.,.) = \n",
      "  0.0000  1.6133 -0.9832 -0.6780 -0.5147  0.0000\n",
      "  0.0000  1.6133 -0.9832 -0.6780 -0.5147  0.0000\n",
      "  0.0000 -0.2551  0.9678  0.1600 -0.3539  0.0000\n",
      "  0.0000  0.3241 -0.8110 -0.1280 -2.4030  0.0000\n",
      "  0.0000  0.7236  1.6286  0.7966 -0.4662  0.0000\n",
      "  0.0000  0.0000  0.0000  0.0000  0.0000  0.0000\n",
      "[torch.FloatTensor of size 3x6x6]\n",
      "\n",
      "\n",
      "(0 ,.,.) = \n",
      "  0.0000  1.4875 -0.5244  0.5025  0.6124  0.0000\n",
      "  1.4875  1.4875 -0.5244  0.5025  0.6124  0.0000\n",
      " -0.8766 -0.8766  0.3364 -0.3516 -0.3095  0.0000\n",
      " -0.3471 -0.3471  0.0073  0.0258  0.1991  0.0000\n",
      " -0.1006 -0.1006  0.8970 -1.0518  0.7252  0.0000\n",
      "  0.0000  0.0000  0.0000  0.0000  0.0000  0.0000\n",
      "\n",
      "(1 ,.,.) = \n",
      "  0.0000 -2.2096 -0.9413  0.3723 -0.2873  0.0000\n",
      " -2.2096 -2.2096 -0.9413  0.3723 -0.2873  0.0000\n",
      "  0.8926  0.8926  1.1532 -1.3937  0.1396  0.0000\n",
      " -1.2194 -1.2194  0.3564  0.0218  0.5848  0.0000\n",
      "  0.3595  0.3595  1.3509 -0.9778 -0.0169  0.0000\n",
      "  0.0000  0.0000  0.0000  0.0000  0.0000  0.0000\n",
      "\n",
      "(2 ,.,.) = \n",
      "  0.0000  1.6133 -0.9832 -0.6780 -0.5147  0.0000\n",
      "  1.6133  1.6133 -0.9832 -0.6780 -0.5147  0.0000\n",
      " -0.2551 -0.2551  0.9678  0.1600 -0.3539  0.0000\n",
      "  0.3241  0.3241 -0.8110 -0.1280 -2.4030  0.0000\n",
      "  0.7236  0.7236  1.6286  0.7966 -0.4662  0.0000\n",
      "  0.0000  0.0000  0.0000  0.0000  0.0000  0.0000\n",
      "[torch.FloatTensor of size 3x6x6]\n",
      "\n",
      "\n",
      "(0 ,.,.) = \n",
      "  0.0000  1.4875 -0.5244  0.5025  0.6124  0.0000\n",
      "  1.4875  1.4875 -0.5244  0.5025  0.6124  0.0000\n",
      " -0.8766 -0.8766  0.3364 -0.3516 -0.3095  0.0000\n",
      " -0.3471 -0.3471  0.0073  0.0258  0.1991  0.0000\n",
      " -0.1006 -0.1006  0.8970 -1.0518  0.7252  0.0000\n",
      "  0.0000 -0.1006  0.8970 -1.0518  0.7252  0.0000\n",
      "\n",
      "(1 ,.,.) = \n",
      "  0.0000 -2.2096 -0.9413  0.3723 -0.2873  0.0000\n",
      " -2.2096 -2.2096 -0.9413  0.3723 -0.2873  0.0000\n",
      "  0.8926  0.8926  1.1532 -1.3937  0.1396  0.0000\n",
      " -1.2194 -1.2194  0.3564  0.0218  0.5848  0.0000\n",
      "  0.3595  0.3595  1.3509 -0.9778 -0.0169  0.0000\n",
      "  0.0000  0.3595  1.3509 -0.9778 -0.0169  0.0000\n",
      "\n",
      "(2 ,.,.) = \n",
      "  0.0000  1.6133 -0.9832 -0.6780 -0.5147  0.0000\n",
      "  1.6133  1.6133 -0.9832 -0.6780 -0.5147  0.0000\n",
      " -0.2551 -0.2551  0.9678  0.1600 -0.3539  0.0000\n",
      "  0.3241  0.3241 -0.8110 -0.1280 -2.4030  0.0000\n",
      "  0.7236  0.7236  1.6286  0.7966 -0.4662  0.0000\n",
      "  0.0000  0.7236  1.6286  0.7966 -0.4662  0.0000\n",
      "[torch.FloatTensor of size 3x6x6]\n",
      "\n",
      "\n",
      "(0 ,.,.) = \n",
      "  0.0000  1.4875 -0.5244  0.5025  0.6124  0.0000\n",
      "  1.4875  1.4875 -0.5244  0.5025  0.6124  0.6124\n",
      " -0.8766 -0.8766  0.3364 -0.3516 -0.3095 -0.3095\n",
      " -0.3471 -0.3471  0.0073  0.0258  0.1991  0.1991\n",
      " -0.1006 -0.1006  0.8970 -1.0518  0.7252  0.7252\n",
      "  0.0000 -0.1006  0.8970 -1.0518  0.7252  0.0000\n",
      "\n",
      "(1 ,.,.) = \n",
      "  0.0000 -2.2096 -0.9413  0.3723 -0.2873  0.0000\n",
      " -2.2096 -2.2096 -0.9413  0.3723 -0.2873 -0.2873\n",
      "  0.8926  0.8926  1.1532 -1.3937  0.1396  0.1396\n",
      " -1.2194 -1.2194  0.3564  0.0218  0.5848  0.5848\n",
      "  0.3595  0.3595  1.3509 -0.9778 -0.0169 -0.0169\n",
      "  0.0000  0.3595  1.3509 -0.9778 -0.0169  0.0000\n",
      "\n",
      "(2 ,.,.) = \n",
      "  0.0000  1.6133 -0.9832 -0.6780 -0.5147  0.0000\n",
      "  1.6133  1.6133 -0.9832 -0.6780 -0.5147 -0.5147\n",
      " -0.2551 -0.2551  0.9678  0.1600 -0.3539 -0.3539\n",
      "  0.3241  0.3241 -0.8110 -0.1280 -2.4030 -2.4030\n",
      "  0.7236  0.7236  1.6286  0.7966 -0.4662 -0.4662\n",
      "  0.0000  0.7236  1.6286  0.7966 -0.4662  0.0000\n",
      "[torch.FloatTensor of size 3x6x6]\n",
      "\n"
     ]
    }
   ],
   "source": [
    "y1=torch.zeros(3,x+2,x+2)\n",
    "print(y1)\n",
    "y1[:,1:x+1,1:y+1]=c\n",
    "print(y1)\n",
    "y1[:,0,1:-1]=c[:,0,:]\n",
    "print(y1)\n",
    "y1[:,1:-1,0]=c[:,:,0]\n",
    "print(y1)\n",
    "y1[:,x+1,1:-1]=c[:,x-1,:]\n",
    "print(y1)\n",
    "y1[:,1:-1,y+1]=c[:,:,y-1]\n",
    "\n",
    "print(y1)\n"
   ]
  },
  {
   "cell_type": "code",
   "execution_count": 78,
   "metadata": {
    "scrolled": false
   },
   "outputs": [
    {
     "name": "stdout",
     "output_type": "stream",
     "text": [
      "\n",
      "(0 ,.,.) = \n",
      "  1.4875 -0.5244  0.5025  0.6124\n",
      " -0.8766  0.3364 -0.3516 -0.3095\n",
      " -0.3471  0.0073  0.0258  0.1991\n",
      " -0.1006  0.8970 -1.0518  0.7252\n",
      "\n",
      "(1 ,.,.) = \n",
      " -2.2096 -0.9413  0.3723 -0.2873\n",
      "  0.8926  1.1532 -1.3937  0.1396\n",
      " -1.2194  0.3564  0.0218  0.5848\n",
      "  0.3595  1.3509 -0.9778 -0.0169\n",
      "\n",
      "(2 ,.,.) = \n",
      "  1.6133 -0.9832 -0.6780 -0.5147\n",
      " -0.2551  0.9678  0.1600 -0.3539\n",
      "  0.3241 -0.8110 -0.1280 -2.4030\n",
      "  0.7236  1.6286  0.7966 -0.4662\n",
      "[torch.FloatTensor of size 3x4x4]\n",
      " \n",
      "(0 ,.,.) = \n",
      "  0.0000  2.0118 -1.0269 -0.1099\n",
      "  0.0000 -1.2130  0.6880 -0.0421\n",
      "  0.0000 -0.3544 -0.0185 -0.1734\n",
      "  0.0000 -0.9976  1.9488 -1.7770\n",
      "\n",
      "(1 ,.,.) = \n",
      "  0.0000 -1.2683 -1.3136  0.6596\n",
      "  0.0000 -0.2606  2.5469 -1.5333\n",
      "  0.0000 -1.5758  0.3345 -0.5629\n",
      "  0.0000 -0.9914  2.3287 -0.9609\n",
      "\n",
      "(2 ,.,.) = \n",
      "  0.0000  2.5965 -0.3052 -0.1633\n",
      "  0.0000 -1.2230  0.8078  0.5140\n",
      "  0.0000  1.1351 -0.6830  2.2750\n",
      "  0.0000 -0.9050  0.8320  1.2628\n",
      "[torch.FloatTensor of size 3x4x4]\n",
      "\n"
     ]
    }
   ],
   "source": [
    "print(c,(y1[:,1:-1,0:-2]-c))"
   ]
  },
  {
   "cell_type": "code",
   "execution_count": 79,
   "metadata": {},
   "outputs": [
    {
     "name": "stdout",
     "output_type": "stream",
     "text": [
      "57.39368605177151\n"
     ]
    }
   ],
   "source": [
    "#y1=Variable()\n",
    "r=torch.sum((y1[:,1:-1,0:-2]-c)**2)\n",
    "print(r)"
   ]
  },
  {
   "cell_type": "code",
   "execution_count": 80,
   "metadata": {},
   "outputs": [
    {
     "ename": "AttributeError",
     "evalue": "'float' object has no attribute 'type'",
     "output_type": "error",
     "traceback": [
      "\u001b[1;31m---------------------------------------------------------------------------\u001b[0m",
      "\u001b[1;31mAttributeError\u001b[0m                            Traceback (most recent call last)",
      "\u001b[1;32m<ipython-input-80-f05f1115c6da>\u001b[0m in \u001b[0;36m<module>\u001b[1;34m()\u001b[0m\n\u001b[1;32m----> 1\u001b[1;33m \u001b[0mprint\u001b[0m\u001b[1;33m(\u001b[0m\u001b[0mr\u001b[0m\u001b[1;33m.\u001b[0m\u001b[0mtype\u001b[0m\u001b[1;33m)\u001b[0m\u001b[1;33m\u001b[0m\u001b[0m\n\u001b[0m",
      "\u001b[1;31mAttributeError\u001b[0m: 'float' object has no attribute 'type'"
     ]
    }
   ],
   "source": [
    "print(r.type)"
   ]
  },
  {
   "cell_type": "code",
   "execution_count": null,
   "metadata": {
    "collapsed": true
   },
   "outputs": [],
   "source": []
  },
  {
   "cell_type": "code",
   "execution_count": null,
   "metadata": {
    "collapsed": true
   },
   "outputs": [],
   "source": []
  }
 ],
 "metadata": {
  "kernelspec": {
   "display_name": "Python 3",
   "language": "python",
   "name": "python3"
  },
  "language_info": {
   "codemirror_mode": {
    "name": "ipython",
    "version": 3
   },
   "file_extension": ".py",
   "mimetype": "text/x-python",
   "name": "python",
   "nbconvert_exporter": "python",
   "pygments_lexer": "ipython3",
   "version": "3.6.1"
  }
 },
 "nbformat": 4,
 "nbformat_minor": 2
}
